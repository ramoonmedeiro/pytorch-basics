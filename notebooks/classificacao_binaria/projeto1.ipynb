{
 "cells": [
  {
   "cell_type": "code",
   "execution_count": null,
   "metadata": {},
   "outputs": [],
   "source": [
    "from sklearn.model_selection import train_test_split\n",
    "import numpy as np\n",
    "import seaborn as sns\n",
    "from sklearn.metrics import accuracy_score, confusion_matrix\n",
    "import torch\n",
    "import torch.nn as nn"
   ]
  },
  {
   "cell_type": "markdown",
   "metadata": {},
   "source": [
    "# Carregando base"
   ]
  },
  {
   "cell_type": "code",
   "execution_count": 51,
   "metadata": {},
   "outputs": [],
   "source": [
    "import pandas as pd\n",
    "X = pd.read_csv(\"../../bases/bases/entradas_breast.csv\")\n",
    "y = pd.read_csv(\"../../bases/bases/saidas_breast.csv\")"
   ]
  },
  {
   "cell_type": "code",
   "execution_count": 52,
   "metadata": {},
   "outputs": [],
   "source": [
    "x_train, x_test, y_train, y_test = train_test_split(X, y, test_size=0.25, random_state=99)"
   ]
  },
  {
   "cell_type": "code",
   "execution_count": 53,
   "metadata": {},
   "outputs": [
    {
     "data": {
      "text/plain": [
       "((426, 30), (143, 30))"
      ]
     },
     "execution_count": 53,
     "metadata": {},
     "output_type": "execute_result"
    }
   ],
   "source": [
    "x_train.shape, x_test.shape"
   ]
  },
  {
   "cell_type": "markdown",
   "metadata": {},
   "source": [
    "# Transformação para tensores"
   ]
  },
  {
   "cell_type": "code",
   "execution_count": 54,
   "metadata": {},
   "outputs": [
    {
     "data": {
      "text/plain": [
       "pandas.core.frame.DataFrame"
      ]
     },
     "execution_count": 54,
     "metadata": {},
     "output_type": "execute_result"
    }
   ],
   "source": [
    "type(x_train)"
   ]
  },
  {
   "cell_type": "code",
   "execution_count": 55,
   "metadata": {},
   "outputs": [
    {
     "data": {
      "text/plain": [
       "array([[1.200e+01, 2.823e+01, 7.677e+01, ..., 7.116e-02, 2.447e-01,\n",
       "        8.194e-02],\n",
       "       [1.157e+01, 1.904e+01, 7.420e+01, ..., 6.664e-02, 3.035e-01,\n",
       "        8.284e-02],\n",
       "       [1.646e+01, 2.011e+01, 1.093e+02, ..., 2.035e-01, 3.054e-01,\n",
       "        9.519e-02],\n",
       "       ...,\n",
       "       [1.747e+01, 2.468e+01, 1.161e+02, ..., 1.721e-01, 2.160e+02,\n",
       "        9.300e+01],\n",
       "       [1.008e+01, 1.511e+01, 6.376e+01, ..., 1.042e-02, 2.933e-01,\n",
       "        7.697e-02],\n",
       "       [1.674e+01, 2.159e+01, 1.101e+02, ..., 1.813e-01, 4.863e-01,\n",
       "        8.633e-02]], shape=(426, 30))"
      ]
     },
     "execution_count": 55,
     "metadata": {},
     "output_type": "execute_result"
    }
   ],
   "source": [
    "import numpy as np\n",
    "\n",
    "np.array(x_train)"
   ]
  },
  {
   "cell_type": "code",
   "execution_count": 56,
   "metadata": {},
   "outputs": [],
   "source": [
    "x_train = torch.tensor(np.array(x_train), dtype=torch.float)"
   ]
  },
  {
   "cell_type": "code",
   "execution_count": 57,
   "metadata": {},
   "outputs": [],
   "source": [
    "y_train = torch.tensor(np.array(y_train), dtype=torch.float)"
   ]
  },
  {
   "cell_type": "code",
   "execution_count": 58,
   "metadata": {},
   "outputs": [],
   "source": [
    "dataset = torch.utils.data.TensorDataset(x_train, y_train)"
   ]
  },
  {
   "cell_type": "code",
   "execution_count": 59,
   "metadata": {},
   "outputs": [],
   "source": [
    "train_loader = torch.utils.data.DataLoader(dataset, batch_size=10, shuffle=True)"
   ]
  },
  {
   "cell_type": "code",
   "execution_count": 60,
   "metadata": {},
   "outputs": [
    {
     "data": {
      "text/plain": [
       "<torch.utils.data.dataloader.DataLoader at 0x72bb4b742630>"
      ]
     },
     "execution_count": 60,
     "metadata": {},
     "output_type": "execute_result"
    }
   ],
   "source": [
    "train_loader"
   ]
  },
  {
   "cell_type": "markdown",
   "metadata": {},
   "source": [
    "# Construção do modelo"
   ]
  },
  {
   "cell_type": "code",
   "execution_count": 61,
   "metadata": {},
   "outputs": [
    {
     "ename": "SyntaxError",
     "evalue": "invalid syntax (187511383.py, line 1)",
     "output_type": "error",
     "traceback": [
      "  \u001b[36mCell\u001b[39m\u001b[36m \u001b[39m\u001b[32mIn[61]\u001b[39m\u001b[32m, line 1\u001b[39m\n\u001b[31m    \u001b[39m\u001b[31m30 -> 16 -> 16 -> 1\u001b[39m\n       ^\n\u001b[31mSyntaxError\u001b[39m\u001b[31m:\u001b[39m invalid syntax\n"
     ]
    }
   ],
   "source": [
    "30 -> 16 -> 16 -> 1\n",
    "\n",
    "(entradas + saidas) / 2 -> (30 + 1) / 2 ~ 16"
   ]
  },
  {
   "cell_type": "code",
   "execution_count": 62,
   "metadata": {},
   "outputs": [],
   "source": [
    "classificador = nn.Sequential(\n",
    "    nn.Linear(in_features=30, out_features=16),\n",
    "    nn.ReLU(),\n",
    "    nn.Linear(in_features=16, out_features=16),\n",
    "    nn.ReLU(),\n",
    "    nn.Linear(in_features=16, out_features=1),\n",
    "    nn.Sigmoid()\n",
    ")"
   ]
  },
  {
   "cell_type": "code",
   "execution_count": 63,
   "metadata": {},
   "outputs": [
    {
     "data": {
      "text/plain": [
       "Sequential(\n",
       "  (0): Linear(in_features=30, out_features=16, bias=True)\n",
       "  (1): ReLU()\n",
       "  (2): Linear(in_features=16, out_features=16, bias=True)\n",
       "  (3): ReLU()\n",
       "  (4): Linear(in_features=16, out_features=1, bias=True)\n",
       "  (5): Sigmoid()\n",
       ")"
      ]
     },
     "execution_count": 63,
     "metadata": {},
     "output_type": "execute_result"
    }
   ],
   "source": [
    "classificador"
   ]
  },
  {
   "cell_type": "code",
   "execution_count": 64,
   "metadata": {},
   "outputs": [],
   "source": [
    "# Criando a função de custo\n",
    "\n",
    "criterion = nn.BCELoss()"
   ]
  },
  {
   "cell_type": "code",
   "execution_count": 65,
   "metadata": {},
   "outputs": [],
   "source": [
    "# Criando o otimizador\n",
    "\n",
    "optimizer = torch.optim.Adam(\n",
    "    params=classificador.parameters(),\n",
    "    lr=0.001,\n",
    "    weight_decay=0.0001\n",
    ") "
   ]
  },
  {
   "cell_type": "markdown",
   "metadata": {},
   "source": [
    "# Treinando o modelo"
   ]
  },
  {
   "cell_type": "code",
   "execution_count": 74,
   "metadata": {},
   "outputs": [
    {
     "name": "stdout",
     "output_type": "stream",
     "text": [
      "Época 1 -> 0.1336\n",
      "Época 2 -> 0.2327\n",
      "Época 3 -> 0.1377\n",
      "Época 4 -> 0.1356\n",
      "Época 5 -> 0.1034\n",
      "Época 6 -> 0.1165\n",
      "Época 7 -> 0.1200\n",
      "Época 8 -> 0.1424\n",
      "Época 9 -> 0.1133\n",
      "Época 10 -> 0.1162\n",
      "Época 11 -> 0.1321\n",
      "Época 12 -> 0.1199\n",
      "Época 13 -> 0.1016\n",
      "Época 14 -> 0.0966\n",
      "Época 15 -> 0.0999\n",
      "Época 16 -> 0.1142\n",
      "Época 17 -> 0.0992\n",
      "Época 18 -> 0.1116\n",
      "Época 19 -> 0.2699\n",
      "Época 20 -> 0.1775\n",
      "Época 21 -> 0.1150\n",
      "Época 22 -> 0.1304\n",
      "Época 23 -> 0.1270\n",
      "Época 24 -> 0.1394\n",
      "Época 25 -> 0.1222\n",
      "Época 26 -> 0.1147\n",
      "Época 27 -> 0.1550\n",
      "Época 28 -> 0.1663\n",
      "Época 29 -> 0.1037\n",
      "Época 30 -> 0.1486\n",
      "Época 31 -> 0.1399\n",
      "Época 32 -> 0.1698\n",
      "Época 33 -> 0.1144\n",
      "Época 34 -> 0.1365\n",
      "Época 35 -> 0.1470\n",
      "Época 36 -> 0.1295\n",
      "Época 37 -> 0.1189\n",
      "Época 38 -> 0.1277\n",
      "Época 39 -> 0.1181\n",
      "Época 40 -> 0.1332\n",
      "Época 41 -> 0.1235\n",
      "Época 42 -> 0.1039\n",
      "Época 43 -> 0.1275\n",
      "Época 44 -> 0.1031\n",
      "Época 45 -> 0.1109\n",
      "Época 46 -> 0.0977\n",
      "Época 47 -> 0.1064\n",
      "Época 48 -> 0.1003\n",
      "Época 49 -> 0.1181\n",
      "Época 50 -> 0.1017\n",
      "Época 51 -> 0.1133\n",
      "Época 52 -> 0.1072\n",
      "Época 53 -> 0.0914\n",
      "Época 54 -> 0.1103\n",
      "Época 55 -> 0.1554\n",
      "Época 56 -> 0.1641\n",
      "Época 57 -> 0.1238\n",
      "Época 58 -> 0.1090\n",
      "Época 59 -> 0.1336\n",
      "Época 60 -> 0.1457\n",
      "Época 61 -> 0.2302\n",
      "Época 62 -> 0.1450\n",
      "Época 63 -> 0.1648\n",
      "Época 64 -> 0.2058\n",
      "Época 65 -> 0.1163\n",
      "Época 66 -> 0.1019\n",
      "Época 67 -> 0.1024\n",
      "Época 68 -> 0.1087\n",
      "Época 69 -> 0.1144\n",
      "Época 70 -> 0.1134\n",
      "Época 71 -> 0.1567\n",
      "Época 72 -> 0.1162\n",
      "Época 73 -> 0.1149\n",
      "Época 74 -> 0.1090\n",
      "Época 75 -> 0.0955\n",
      "Época 76 -> 0.1005\n",
      "Época 77 -> 0.1198\n",
      "Época 78 -> 0.1196\n",
      "Época 79 -> 0.2444\n",
      "Época 80 -> 0.1260\n",
      "Época 81 -> 0.1081\n",
      "Época 82 -> 0.1399\n",
      "Época 83 -> 0.1079\n",
      "Época 84 -> 0.1093\n",
      "Época 85 -> 0.0821\n",
      "Época 86 -> 0.0893\n",
      "Época 87 -> 0.1014\n",
      "Época 88 -> 0.0884\n",
      "Época 89 -> 0.1017\n",
      "Época 90 -> 0.1231\n",
      "Época 91 -> 0.0933\n",
      "Época 92 -> 0.0971\n",
      "Época 93 -> 0.0861\n",
      "Época 94 -> 0.0959\n",
      "Época 95 -> 0.1122\n",
      "Época 96 -> 0.1040\n",
      "Época 97 -> 0.1723\n",
      "Época 98 -> 0.0876\n",
      "Época 99 -> 0.0962\n",
      "Época 100 -> 0.1213\n"
     ]
    }
   ],
   "source": [
    "num_epochs = 100\n",
    "\n",
    "for epoch in range(num_epochs):\n",
    "    running_loss = 0.\n",
    "    for data in train_loader:\n",
    "        inputs, labels = data\n",
    "        \n",
    "\t\t# zerando o gradiente a cada iteração\n",
    "        optimizer.zero_grad()\n",
    "        \n",
    "\t\t# realizando uma previsão\n",
    "        outputs = classificador.forward(input=inputs)\n",
    "        \n",
    "\t\t# Medindo a loss a cada iteração\n",
    "        loss = criterion(outputs, labels)\n",
    "        \n",
    "\t\t# Realizando o backpropagation (depois de ter realizado o forward)\n",
    "        loss.backward()\n",
    "        \n",
    "\t\t# Atualizar os novos pesos depois do algoritmo de backpropagation\n",
    "        optimizer.step()\n",
    "        \n",
    "\t\t# Acumulando a loss para uma única época\n",
    "        running_loss += loss.item() # pegando apenas o valor da loss de um objeto\n",
    "    print(f\"Época {epoch+1} -> {running_loss/len(train_loader):.4f}\")"
   ]
  },
  {
   "cell_type": "markdown",
   "metadata": {},
   "source": [
    "# Visualização dos pesos"
   ]
  },
  {
   "cell_type": "code",
   "execution_count": 75,
   "metadata": {},
   "outputs": [],
   "source": [
    "params = list(classificador.parameters())"
   ]
  },
  {
   "cell_type": "code",
   "execution_count": 76,
   "metadata": {},
   "outputs": [
    {
     "data": {
      "text/plain": [
       "[Parameter containing:\n",
       " tensor([[ 4.5387e-02,  8.4396e-03, -4.0955e-01,  2.4517e-02,  4.2247e-01,\n",
       "           1.9047e-01,  6.3990e-02,  5.2063e-01,  2.1347e-01, -7.8446e-02,\n",
       "           5.2840e-03, -8.7747e-02, -2.5718e-02,  1.8028e-01,  9.8323e-03,\n",
       "           4.9104e-02,  2.8553e-01,  1.0107e-02, -7.7961e-01,  6.5133e-03,\n",
       "           1.1759e-01,  1.5678e-02, -1.2424e-01,  1.6055e-01,  3.5179e-02,\n",
       "          -1.8614e-01,  4.3601e-01,  6.2011e-01,  1.1336e-02,  7.9907e-02],\n",
       "         [ 1.3565e-01, -4.4639e-02,  3.0654e-01,  8.1382e-02, -1.5343e-01,\n",
       "          -4.2714e-02,  1.1998e-02,  3.3472e-02,  6.0645e-02,  9.8468e-02,\n",
       "           1.9989e-01, -3.4931e-02,  2.4987e-02,  3.5771e-02, -1.0889e-02,\n",
       "          -5.7464e-02,  2.7872e-01, -1.9354e-02,  3.0092e-01, -5.3909e-02,\n",
       "           2.4062e-02, -5.5030e-01,  9.5391e-02, -1.6012e-01, -2.2315e-01,\n",
       "           2.4948e-02,  4.1746e-02, -2.8647e-01, -6.2574e-02, -1.2964e-01],\n",
       "         [ 1.8055e-01,  1.1937e-01,  3.6746e-04, -1.8546e-01,  4.4759e-04,\n",
       "           9.7370e-03,  1.2254e-02, -1.4534e-02,  4.8534e-02, -2.6382e-01,\n",
       "          -3.7198e-02,  4.1113e-02, -1.1978e-01, -3.9659e-02, -1.2884e-02,\n",
       "           6.3390e-02,  4.8664e-04, -2.7976e-02, -2.3357e-01, -6.2385e-03,\n",
       "          -2.0227e-02,  3.0518e-01,  1.5922e-01,  1.4778e-01,  3.5328e-01,\n",
       "          -5.3299e-02,  2.3681e-01,  1.8158e-02, -3.7882e-03,  2.5087e-02],\n",
       "         [-5.7579e-02,  2.2230e-01,  1.1330e-01,  7.4824e-02, -2.4661e-01,\n",
       "           1.9904e-01, -1.0759e-01, -4.1166e-02, -1.9838e-01, -3.1514e-01,\n",
       "          -6.9688e-02, -5.9829e-02, -2.4559e-02,  1.4525e-01,  2.7478e-04,\n",
       "           2.0223e-02,  2.3114e-01,  2.0823e-02, -7.3110e-01, -2.0667e-02,\n",
       "          -3.1604e-03,  2.7083e-01,  8.9200e-02,  5.5862e-02, -1.8531e-01,\n",
       "          -6.7434e-02,  4.6419e-02, -2.1350e-01, -3.7738e-01, -8.2232e-02],\n",
       "         [-1.0429e-02,  4.3383e-03,  6.6864e-02, -1.0014e-01,  2.1828e-35,\n",
       "          -1.5372e-16, -1.8782e-18, -2.1283e-37, -3.4996e-09,  7.0491e-02,\n",
       "          -3.1775e-05,  7.7422e-03, -5.7823e-02,  9.2697e-02, -5.5491e-39,\n",
       "           4.4336e-40,  1.7604e-39, -3.8941e-39, -3.3796e-03, -5.0119e-40,\n",
       "          -1.3315e-02,  1.0968e-02,  1.0764e-01, -2.0755e-02,  1.6666e-02,\n",
       "          -7.8497e-04,  5.6371e-03, -3.4358e-09, -2.0472e-03,  2.0192e-04],\n",
       "         [ 3.8463e-01,  4.5242e-02,  4.3287e-01,  1.1955e-01, -1.1783e-01,\n",
       "          -9.9222e-02, -1.5109e-01,  1.7318e-01, -2.0517e-02,  4.7809e-01,\n",
       "          -1.9458e-02, -1.3119e-01,  7.6808e-02, -1.0760e-01, -4.5807e-02,\n",
       "          -3.2346e-01,  5.3205e-01, -7.3806e-02,  4.1517e-01, -8.9008e-02,\n",
       "           2.4541e-02, -4.1016e-01,  1.7040e-01, -6.7087e-02,  1.3938e-02,\n",
       "          -2.3869e-01,  3.9784e-02,  5.4241e-02,  4.9564e-02, -4.5744e-01],\n",
       "         [-6.6807e-01,  3.1551e-02, -5.8315e-01, -2.4801e-02,  1.2249e-01,\n",
       "           1.2449e-01, -2.2294e-02, -1.1685e-01, -1.8276e-01, -3.4277e-01,\n",
       "           1.7541e-02, -9.3773e-02,  8.3278e-02,  1.4505e-02,  5.3684e-02,\n",
       "           3.7290e-01, -6.7157e-01,  4.0480e-02, -5.2628e-01,  1.4940e-01,\n",
       "          -3.9967e-01,  3.7625e-01, -3.5529e-01,  1.6809e-01, -1.5265e-01,\n",
       "          -1.2514e-01, -1.9811e-01, -3.1649e-02, -9.3842e-03,  4.8558e-01],\n",
       "         [-1.3851e-01,  5.1340e-02,  8.1790e-02, -1.0842e-01,  1.6521e-04,\n",
       "           2.6880e-03, -2.7025e-03, -4.4871e-03,  2.9407e-01,  2.2333e-04,\n",
       "           1.5355e-01, -7.2150e-02, -1.1727e-02, -4.9851e-03, -9.6914e-05,\n",
       "           4.0005e-04,  5.6878e-04,  1.2747e-04,  2.5700e-04,  2.3079e-05,\n",
       "          -4.8955e-02, -1.7616e-01, -2.0052e-01, -1.3009e-01,  1.8833e-01,\n",
       "           1.0019e-01,  3.4439e-01,  8.5710e-02, -2.9703e-02,  2.0632e-04],\n",
       "         [ 1.7977e-01,  2.3680e-01,  3.2381e-01, -1.0930e-01, -1.3204e-02,\n",
       "          -4.6778e-02, -2.4109e-02,  5.7011e-02, -8.1643e-02, -2.8774e-01,\n",
       "           1.4070e-01,  1.5909e-01, -1.1759e-01,  1.6140e-01,  1.4648e-03,\n",
       "           1.4815e-01,  4.0580e-02,  2.0990e-03, -8.0827e-01,  2.2651e-03,\n",
       "          -4.6539e-04, -1.3729e-02,  3.5948e-02, -5.0788e-02, -2.6108e-01,\n",
       "           3.6309e-01,  6.8316e-02, -1.6292e-01, -1.9798e-03, -3.9853e-02],\n",
       "         [ 5.7410e-02, -1.0286e-22,  1.4480e-07, -4.2811e-03,  1.7194e-39,\n",
       "          -6.3437e-42, -1.6347e-39, -5.8662e-39, -2.3816e-39,  6.9683e-39,\n",
       "           2.6893e-03, -5.9600e-02, -1.0141e-01,  1.9369e-05,  6.9118e-39,\n",
       "           4.2078e-39,  5.2197e-39,  6.1745e-39,  3.2063e-39,  2.9611e-39,\n",
       "          -3.8239e-39,  1.4724e-16,  2.5069e-06, -1.8967e-02,  1.3076e-39,\n",
       "          -4.1753e-03,  2.6196e-39, -8.9090e-40, -1.9770e-39, -3.1727e-39],\n",
       "         [-1.0649e-01, -7.0361e-02,  5.2087e-02, -1.1590e-01, -4.5953e-04,\n",
       "          -1.7182e-01, -2.1283e-02, -2.2967e-03,  3.1250e-01, -1.8906e-01,\n",
       "          -1.2141e-01,  5.0974e-02, -4.9734e-02, -3.7678e-01,  3.6769e-05,\n",
       "           2.4790e-02,  2.3780e-04,  5.8082e-05, -1.6434e-01,  2.4738e-05,\n",
       "          -6.6835e-02,  9.5177e-02, -9.7943e-02, -7.4574e-02,  3.1728e-01,\n",
       "          -6.1175e-02,  3.2261e-01,  1.9799e-01, -1.2367e-01, -2.5840e-02],\n",
       "         [ 1.8113e-02, -2.8888e-01, -2.5613e-01,  2.7492e-02, -2.5043e-01,\n",
       "           1.5861e-01, -6.7776e-02, -5.9164e-02,  3.0767e-01,  4.5800e-01,\n",
       "           3.6611e-02,  6.1039e-03, -1.9351e-02,  2.0787e-02,  1.2936e-03,\n",
       "          -1.1496e-01, -3.1074e-01, -2.2257e-02,  7.1091e-01,  6.0839e-02,\n",
       "          -8.1765e-02, -1.4213e-01, -2.6841e-01,  1.7098e-01,  3.3693e-01,\n",
       "           3.6132e-01,  2.1653e-01,  4.5053e-02,  1.2182e-01,  1.0796e-01],\n",
       "         [ 1.6635e-01, -5.4832e-02,  2.5691e-01, -1.3779e-01,  3.8952e-02,\n",
       "          -2.2555e-01,  4.2943e-01,  6.0550e-01,  8.1224e-01, -7.7204e-03,\n",
       "          -2.7511e-01,  8.0222e-02,  3.3737e-02, -1.1418e-01,  1.1471e-03,\n",
       "           9.2763e-03,  1.2489e-02,  2.3806e-03, -4.6659e-02, -3.2172e-02,\n",
       "          -3.0139e-02, -3.3954e-01, -1.5499e-01, -2.2390e-01,  1.3481e-02,\n",
       "           2.7457e-01, -1.5740e-01, -2.1748e-01, -2.6872e-01, -6.9676e-03],\n",
       "         [ 9.9433e-02,  1.9370e-01, -5.6357e-02,  2.0843e-01, -7.1240e-04,\n",
       "          -1.8030e-02, -2.0490e-02,  3.0726e-01,  3.4785e-01,  3.4460e-01,\n",
       "          -3.1098e-02,  8.1354e-04, -1.1075e-01, -6.0182e-02,  8.6075e-03,\n",
       "           1.0196e-02, -2.4535e-03,  7.7001e-02, -2.1974e-01,  5.5104e-03,\n",
       "          -9.3851e-02, -1.8277e-01, -8.7434e-02, -1.1671e-01,  9.8690e-02,\n",
       "           2.7161e-01,  1.3147e-01, -3.6512e-02, -4.9546e-02, -3.6823e-02],\n",
       "         [-1.9276e-01, -4.4429e-01, -1.9653e-01, -6.8276e-02, -3.3593e-03,\n",
       "           1.7039e-02,  1.9960e-02, -3.6193e-01, -7.2559e-02,  5.6877e-01,\n",
       "           8.6218e-02,  4.8946e-02, -1.5868e-01,  7.5957e-02, -5.9648e-03,\n",
       "          -3.1111e-01, -2.1372e-04, -6.4139e-02,  9.2061e-01, -1.4370e-03,\n",
       "          -3.2987e-02, -1.7807e-01, -4.5932e-02,  1.5061e-01, -2.6865e-01,\n",
       "          -6.9321e-02, -4.3505e-01,  7.4620e-02, -1.0745e-01,  6.6380e-02],\n",
       "         [ 2.1374e-01,  4.6957e-03,  2.0640e-02,  1.8161e-02,  1.5288e-01,\n",
       "           5.3480e-01,  9.6824e-02,  6.3278e-01, -8.8439e-02, -2.3846e-01,\n",
       "           1.3842e-01,  1.0724e-01, -2.6766e-02, -2.1956e-01,  4.4803e-04,\n",
       "          -1.7645e-02,  9.9303e-01, -4.1671e-03, -6.4511e-01, -6.8524e-02,\n",
       "          -2.5345e-02, -2.6409e-01,  9.2621e-02, -1.1492e-01, -5.4137e-01,\n",
       "           1.6535e-01,  3.6064e-01,  2.8130e-01,  1.7988e-01, -1.0980e-01]],\n",
       "        requires_grad=True),\n",
       " Parameter containing:\n",
       " tensor([-6.3430e-01,  5.6587e-01,  5.9307e-03,  1.7614e-01,  4.7358e-05,\n",
       "          7.4594e-01, -7.3924e-01,  1.0292e-03,  1.6508e-01,  1.9028e-39,\n",
       "          3.9220e-03, -4.3674e-01,  1.2256e-01,  4.6567e-02, -2.3021e-01,\n",
       "          2.2664e-01], requires_grad=True),\n",
       " Parameter containing:\n",
       " tensor([[-6.4096e-39, -5.0115e-08, -3.1463e-11, -2.5023e-06,  3.7296e-39,\n",
       "          -1.5471e-10, -2.5878e-09,  6.7162e-39, -4.5423e-19, -2.6361e-39,\n",
       "          -2.9771e-07, -6.4058e-04, -1.8500e-39,  4.0937e-14, -1.0907e-13,\n",
       "          -9.1750e-06],\n",
       "         [-1.8287e-02,  1.4895e-01, -1.8863e-01, -2.2198e-01, -6.4878e-02,\n",
       "          -1.0992e-01,  1.5520e-01,  1.5940e-01, -6.8911e-02,  4.1006e-04,\n",
       "           2.3368e-01,  2.3931e-01, -1.6154e-01,  2.4138e-01,  2.3748e-01,\n",
       "           2.2346e-02],\n",
       "         [-2.4922e-03, -5.7793e-03, -1.5841e-03, -1.7355e-02, -4.4150e-10,\n",
       "          -1.9373e-02, -1.3689e-03, -1.1624e-27,  3.0018e-02,  6.9595e-39,\n",
       "          -8.1581e-03, -2.9668e-02, -6.0992e-08,  1.0194e-02, -3.5098e-02,\n",
       "          -2.4314e-02],\n",
       "         [-1.5052e-01,  2.1669e-02, -9.7318e-02,  1.1601e-01,  1.6322e-01,\n",
       "           7.9352e-02,  6.4272e-02,  1.2388e-01, -9.5721e-02, -5.0558e-02,\n",
       "           5.7387e-02, -1.8926e-01,  8.2147e-03,  9.3482e-02, -9.2500e-02,\n",
       "           2.3238e-01],\n",
       "         [ 2.7552e-01,  4.3273e-03,  2.1321e-01,  2.8040e-01, -4.6800e-02,\n",
       "          -2.4164e-01, -3.7834e-01, -6.8484e-02,  6.5109e-02,  1.9385e-02,\n",
       "           1.2617e-01, -1.7485e-01,  6.0918e-02,  2.8710e-01, -4.0440e-02,\n",
       "          -2.1999e-01],\n",
       "         [ 2.2145e-01,  8.4778e-02, -9.5579e-02,  8.4431e-04, -1.2128e-01,\n",
       "           2.1586e-03, -7.4866e-02, -3.5568e-02,  1.8061e-01, -1.2181e-02,\n",
       "           1.8045e-01,  1.7584e-01,  8.4309e-02,  2.5251e-01, -2.2154e-01,\n",
       "           2.2726e-03],\n",
       "         [-1.3350e-01,  3.1267e-02, -4.5834e-03, -7.9315e-02, -5.1064e-02,\n",
       "           2.2399e-02,  6.6218e-02, -1.1078e-01, -1.9414e-01,  3.2091e-04,\n",
       "          -7.5803e-02,  1.8003e-01, -4.5178e-02, -1.2699e-01,  1.3023e-01,\n",
       "           1.0078e-01],\n",
       "         [-1.8362e-01,  1.3301e-02,  1.4065e-01,  1.2772e-01,  1.5193e-01,\n",
       "           2.3245e-01,  1.6899e-01, -2.5036e-01,  2.9140e-01, -2.5714e-02,\n",
       "           1.6724e-01,  8.2173e-02,  1.5165e-01, -3.9457e-02, -1.3728e-01,\n",
       "           1.4025e-01],\n",
       "         [-3.3899e-03, -3.1111e-02, -5.6715e-39, -2.8032e-02, -6.8040e-39,\n",
       "           2.5691e-04, -4.3225e-03,  6.3566e-02, -1.4162e-27,  3.5284e-39,\n",
       "          -7.0233e-02, -2.0468e-01,  4.1047e-39,  6.4412e-39, -2.1656e-30,\n",
       "          -1.4168e-02],\n",
       "         [ 2.3200e-02, -5.9569e-02,  2.8679e-01,  3.4481e-02, -1.0555e-02,\n",
       "           4.4553e-02,  1.5365e-01, -1.5119e-02, -4.4854e-01,  6.2671e-40,\n",
       "           2.8995e-01, -4.8846e-02, -2.2593e-01, -3.9150e-01,  1.6720e-01,\n",
       "           1.0557e-01],\n",
       "         [ 9.8590e-02,  6.7902e-02,  1.8923e-01,  1.4910e-01,  2.4813e-02,\n",
       "           4.3140e-02,  2.4921e-01,  1.0525e-01,  1.3675e-01,  2.9170e-02,\n",
       "           1.5142e-01,  1.1224e-01, -2.0124e-01, -4.8056e-02, -9.3216e-03,\n",
       "          -2.9266e-02],\n",
       "         [ 5.1521e-02, -3.1322e-01, -8.8662e-02, -4.8214e-01, -1.3578e-01,\n",
       "          -2.1381e-01,  8.5424e-02,  1.1547e-01,  1.2296e-01,  5.7551e-02,\n",
       "           1.6873e-01,  7.7018e-02, -1.4115e-01,  1.5464e-01,  1.3334e-02,\n",
       "           1.0876e-01],\n",
       "         [-1.9371e-01, -4.1946e-03, -2.3832e-01,  2.6470e-01,  5.4166e-02,\n",
       "           1.5118e-01, -2.1285e-01, -1.5476e-01,  2.3528e-01,  6.5286e-03,\n",
       "           2.0122e-01,  1.2758e-01, -7.0350e-02,  2.5696e-01, -8.1965e-02,\n",
       "           1.6766e-01],\n",
       "         [-2.8066e-02,  4.1530e-02, -1.2067e-02, -1.6983e-02, -1.1580e-39,\n",
       "          -2.7673e-02, -1.7613e-02, -2.7136e-24, -5.0298e-02,  6.5159e-39,\n",
       "           2.2183e-19, -6.0479e-02, -8.0037e-02, -3.0615e-04, -1.4347e-02,\n",
       "           2.5023e-02],\n",
       "         [-7.0263e-02, -2.2342e-01,  7.2239e-02,  1.6807e-01, -2.1469e-01,\n",
       "          -2.0938e-01,  2.8924e-01,  6.8867e-02, -1.5581e-01, -8.3658e-38,\n",
       "          -1.4238e-01,  2.5516e-01, -1.9136e-01, -1.8231e-01,  3.2097e-01,\n",
       "          -1.2506e-01],\n",
       "         [-6.8168e-06, -4.3037e-03,  1.9559e-40, -7.7984e-03, -1.9638e-39,\n",
       "          -6.2233e-03, -5.6398e-03,  5.3604e-39,  2.1113e-39, -2.1905e-39,\n",
       "          -4.9780e-08, -8.3177e-03, -5.3320e-39,  5.2537e-39, -6.7187e-40,\n",
       "          -1.3201e-07]], requires_grad=True),\n",
       " Parameter containing:\n",
       " tensor([-4.8848e-39, -8.7223e-01,  3.0074e-15, -8.8249e-01,  2.3919e-01,\n",
       "          8.6143e-01,  8.7047e-01,  1.0239e+00, -3.1605e-05, -7.1028e-01,\n",
       "         -1.1976e+00, -3.7867e-01,  9.3951e-01, -3.2622e-02, -6.6195e-01,\n",
       "          2.7235e-39], requires_grad=True),\n",
       " Parameter containing:\n",
       " tensor([[ 0.0007, -0.1071, -0.0008, -0.0977,  0.1640,  0.0824,  0.0945,  0.2054,\n",
       "          -0.0514, -0.1029, -0.1684, -0.2779,  0.1357, -0.0192, -0.1785, -0.0178]],\n",
       "        requires_grad=True),\n",
       " Parameter containing:\n",
       " tensor([0.8797], requires_grad=True)]"
      ]
     },
     "execution_count": 76,
     "metadata": {},
     "output_type": "execute_result"
    }
   ],
   "source": [
    "params"
   ]
  },
  {
   "cell_type": "markdown",
   "metadata": {},
   "source": [
    "# Avaliando o modelo"
   ]
  },
  {
   "cell_type": "code",
   "execution_count": null,
   "metadata": {},
   "outputs": [
    {
     "data": {
      "text/plain": [
       "Sequential(\n",
       "  (0): Linear(in_features=30, out_features=16, bias=True)\n",
       "  (1): ReLU()\n",
       "  (2): Linear(in_features=16, out_features=16, bias=True)\n",
       "  (3): ReLU()\n",
       "  (4): Linear(in_features=16, out_features=1, bias=True)\n",
       "  (5): Sigmoid()\n",
       ")"
      ]
     },
     "execution_count": 77,
     "metadata": {},
     "output_type": "execute_result"
    }
   ],
   "source": [
    "# Colocando o modelo em modo de evaluação, ou seja, ele para de realizar o ajuste dos pesos.\n",
    "classificador.eval()"
   ]
  },
  {
   "cell_type": "code",
   "execution_count": 78,
   "metadata": {},
   "outputs": [],
   "source": [
    "# Transformando base de teste em torch\n",
    "x_test = torch.tensor(np.array(x_test), dtype=torch.float)"
   ]
  },
  {
   "cell_type": "code",
   "execution_count": 79,
   "metadata": {},
   "outputs": [
    {
     "data": {
      "text/plain": [
       "tensor([[1.0800e+01, 2.1980e+01, 6.8790e+01,  ..., 7.4850e-02, 2.9650e-01,\n",
       "         7.6620e-02],\n",
       "        [1.0160e+01, 1.9590e+01, 6.4730e+01,  ..., 2.2320e-02, 2.2620e-01,\n",
       "         6.7420e-02],\n",
       "        [8.8780e+03, 1.5490e+01, 5.6740e+01,  ..., 4.7620e-02, 2.4340e-01,\n",
       "         7.4310e-02],\n",
       "        ...,\n",
       "        [1.0320e+01, 1.6350e+01, 6.5310e+01,  ..., 2.3810e-02, 2.6810e-01,\n",
       "         7.3990e-02],\n",
       "        [1.3280e+01, 1.3720e+01, 8.5790e+01,  ..., 9.1730e-02, 2.7360e-01,\n",
       "         7.3200e-02],\n",
       "        [1.3850e+01, 1.7210e+01, 8.8440e+01,  ..., 5.1040e-02, 2.3640e-01,\n",
       "         7.1820e-02]])"
      ]
     },
     "execution_count": 79,
     "metadata": {},
     "output_type": "execute_result"
    }
   ],
   "source": [
    "x_test"
   ]
  },
  {
   "cell_type": "code",
   "execution_count": 80,
   "metadata": {},
   "outputs": [],
   "source": [
    "previsoes = classificador.forward(x_test)"
   ]
  },
  {
   "cell_type": "code",
   "execution_count": 83,
   "metadata": {},
   "outputs": [
    {
     "data": {
      "text/plain": [
       "tensor([[0.9999],\n",
       "        [0.9884]], grad_fn=<SliceBackward0>)"
      ]
     },
     "execution_count": 83,
     "metadata": {},
     "output_type": "execute_result"
    }
   ],
   "source": [
    "# irá retornar valores entre 0 e 1, dada a função de ativação sigmóide\n",
    "previsoes[:2]"
   ]
  },
  {
   "cell_type": "code",
   "execution_count": 84,
   "metadata": {},
   "outputs": [
    {
     "name": "stderr",
     "output_type": "stream",
     "text": [
      "/tmp/ipykernel_39966/559825693.py:3: DeprecationWarning: __array__ implementation doesn't accept a copy keyword, so passing copy=False failed. __array__ must implement 'dtype' and 'copy' keyword arguments. To learn more, see the migration guide https://numpy.org/devdocs/numpy_2_0_migration_guide.html#adapting-to-changes-in-the-copy-keyword\n",
      "  previsoes = np.array(previsoes > threshold)\n"
     ]
    }
   ],
   "source": [
    "threshold = 0.5\n",
    "\n",
    "previsoes = np.array(previsoes > threshold)"
   ]
  },
  {
   "cell_type": "code",
   "execution_count": 87,
   "metadata": {},
   "outputs": [],
   "source": [
    "y_test = np.array(y_test)"
   ]
  },
  {
   "cell_type": "code",
   "execution_count": 89,
   "metadata": {},
   "outputs": [],
   "source": [
    "taxa_acerto = accuracy_score(y_test, previsoes)"
   ]
  },
  {
   "cell_type": "code",
   "execution_count": 90,
   "metadata": {},
   "outputs": [
    {
     "data": {
      "text/plain": [
       "0.8951048951048951"
      ]
     },
     "execution_count": 90,
     "metadata": {},
     "output_type": "execute_result"
    }
   ],
   "source": [
    "taxa_acerto"
   ]
  },
  {
   "cell_type": "code",
   "execution_count": 92,
   "metadata": {},
   "outputs": [
    {
     "data": {
      "text/plain": [
       "array([[42,  2],\n",
       "       [13, 86]])"
      ]
     },
     "execution_count": 92,
     "metadata": {},
     "output_type": "execute_result"
    }
   ],
   "source": [
    "matrix = confusion_matrix(y_test, previsoes)\n",
    "matrix"
   ]
  },
  {
   "cell_type": "code",
   "execution_count": 93,
   "metadata": {},
   "outputs": [
    {
     "data": {
      "text/plain": [
       "<Axes: >"
      ]
     },
     "execution_count": 93,
     "metadata": {},
     "output_type": "execute_result"
    },
    {
     "data": {
      "image/png": "[encoded data removed]",
      "text/plain": [
       "<Figure size 640x480 with 2 Axes>"
      ]
     },
     "metadata": {},
     "output_type": "display_data"
    }
   ],
   "source": [
    "sns.heatmap(matrix, annot=True)"
   ]
  }
 ],
 "metadata": {
  "kernelspec": {
   "display_name": "venv",
   "language": "python",
   "name": "python3"
  },
  "language_info": {
   "codemirror_mode": {
    "name": "ipython",
    "version": 3
   },
   "file_extension": ".py",
   "mimetype": "text/x-python",
   "name": "python",
   "nbconvert_exporter": "python",
   "pygments_lexer": "ipython3",
   "version": "3.12.3"
  }
 },
 "nbformat": 4,
 "nbformat_minor": 2
}
