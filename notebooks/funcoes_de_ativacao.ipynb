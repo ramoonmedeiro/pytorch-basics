{
 "cells": [
  {
   "cell_type": "code",
   "execution_count": 2,
   "metadata": {},
   "outputs": [],
   "source": [
    "import numpy as np"
   ]
  },
  {
   "cell_type": "markdown",
   "metadata": {},
   "source": [
    "# Step Function\n",
    "\n",
    "- Retorna 1 se o valor de entrada for maior ou igual a 0, caso contrário retorna 0."
   ]
  },
  {
   "cell_type": "code",
   "execution_count": 3,
   "metadata": {},
   "outputs": [],
   "source": [
    "def step_function(soma):\n",
    "\tif soma >= 0.5:\n",
    "\t\treturn 1\n",
    "\treturn 0"
   ]
  },
  {
   "cell_type": "code",
   "execution_count": 4,
   "metadata": {},
   "outputs": [
    {
     "name": "stdout",
     "output_type": "stream",
     "text": [
      "1\n"
     ]
    }
   ],
   "source": [
    "soma = 10\n",
    "\n",
    "results_step_function = step_function(soma=soma)\n",
    "print(results_step_function)"
   ]
  },
  {
   "cell_type": "markdown",
   "metadata": {},
   "source": [
    "# Função sigmóide\n",
    "\n",
    "- Retorna valores acima de zero"
   ]
  },
  {
   "cell_type": "code",
   "execution_count": 5,
   "metadata": {},
   "outputs": [],
   "source": [
    "def sigmoid_function(soma):\n",
    "    y = 1/(1 + np.exp(-soma))\n",
    "    return y"
   ]
  },
  {
   "cell_type": "code",
   "execution_count": 8,
   "metadata": {},
   "outputs": [
    {
     "name": "stdout",
     "output_type": "stream",
     "text": [
      "0.7308225789027212\n"
     ]
    }
   ],
   "source": [
    "soma = 0.9988\n",
    "\n",
    "results_sigmoid_function = sigmoid_function(soma=soma)\n",
    "print(results_sigmoid_function)"
   ]
  },
  {
   "cell_type": "markdown",
   "metadata": {},
   "source": [
    "# Função tangente hiperbólica\n",
    "\n",
    "- Retorna valores entre 1 e -1"
   ]
  },
  {
   "cell_type": "code",
   "execution_count": 10,
   "metadata": {},
   "outputs": [],
   "source": [
    "def tanh_function(soma):\n",
    "    y = (np.exp(soma) - np.exp(-soma))/(np.exp(soma) + np.exp(-soma))\n",
    "    return y"
   ]
  },
  {
   "cell_type": "code",
   "execution_count": 17,
   "metadata": {},
   "outputs": [
    {
     "name": "stdout",
     "output_type": "stream",
     "text": [
      "0.9999999999998128\n"
     ]
    }
   ],
   "source": [
    "soma = 15\n",
    "\n",
    "results_tanh_function = tanh_function(soma=soma)\n",
    "print(results_tanh_function)"
   ]
  },
  {
   "cell_type": "markdown",
   "metadata": {},
   "source": [
    "# ReLU\n",
    "\n",
    "- Retorna valores acima de zero"
   ]
  },
  {
   "cell_type": "code",
   "execution_count": 19,
   "metadata": {},
   "outputs": [],
   "source": [
    "def relu_function(soma):\n",
    "    if soma > 0:\n",
    "        return soma\n",
    "    return 0"
   ]
  },
  {
   "cell_type": "code",
   "execution_count": 20,
   "metadata": {},
   "outputs": [
    {
     "name": "stdout",
     "output_type": "stream",
     "text": [
      "15\n"
     ]
    }
   ],
   "source": [
    "soma = 15\n",
    "\n",
    "results_relu_function = relu_function(soma=soma)\n",
    "print(results_relu_function)"
   ]
  },
  {
   "cell_type": "markdown",
   "metadata": {},
   "source": [
    "# Função linear\n",
    "\n",
    "- Retorna valores exatos que foram passados"
   ]
  },
  {
   "cell_type": "code",
   "execution_count": 21,
   "metadata": {},
   "outputs": [],
   "source": [
    "def linear_function(soma):\n",
    "    return soma"
   ]
  },
  {
   "cell_type": "code",
   "execution_count": 22,
   "metadata": {},
   "outputs": [
    {
     "name": "stdout",
     "output_type": "stream",
     "text": [
      "-15000\n"
     ]
    }
   ],
   "source": [
    "soma = -15000\n",
    "\n",
    "results_linear_function = linear_function(soma=soma)\n",
    "print(results_linear_function)"
   ]
  },
  {
   "cell_type": "markdown",
   "metadata": {},
   "source": [
    "# Função de ativação softmax\n",
    "\n",
    "- Insere uma lista de valores e retorna a probabilidade de cada"
   ]
  },
  {
   "cell_type": "code",
   "execution_count": 24,
   "metadata": {},
   "outputs": [],
   "source": [
    "def softmax_function(vetor):\n",
    "    ex = np.exp(vetor)\n",
    "    print(ex)\n",
    "    return ex / ex.sum()"
   ]
  },
  {
   "cell_type": "code",
   "execution_count": 26,
   "metadata": {},
   "outputs": [
    {
     "name": "stdout",
     "output_type": "stream",
     "text": [
      "[148.4131591    3.66929667  17.9933096 ]\n",
      "[0.87262967 0.02157448 0.10579585]\n"
     ]
    }
   ],
   "source": [
    "vetor = [5.0, 1.3, 2.89]\n",
    "results_softmax_function = softmax_function(vetor=vetor)\n",
    "print(results_softmax_function)"
   ]
  }
 ],
 "metadata": {
  "kernelspec": {
   "display_name": "venv",
   "language": "python",
   "name": "python3"
  },
  "language_info": {
   "codemirror_mode": {
    "name": "ipython",
    "version": 3
   },
   "file_extension": ".py",
   "mimetype": "text/x-python",
   "name": "python",
   "nbconvert_exporter": "python",
   "pygments_lexer": "ipython3",
   "version": "3.12.3"
  }
 },
 "nbformat": 4,
 "nbformat_minor": 2
}
